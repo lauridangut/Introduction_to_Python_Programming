{
  "cells": [
    {
      "cell_type": "markdown",
      "metadata": {
        "id": "E7_TQK0Aq5ra"
      },
      "source": [
        "# Analytics Academy of Data Corner\n",
        "\n",
        "#### Introduction to Python Programming"
      ]
    },
    {
      "cell_type": "markdown",
      "metadata": {
        "id": "LdpRzTgnq5rc"
      },
      "source": [
        "## Lab Activity 1\n",
        "\n",
        "Add an introduction using Markdown with following info:\n",
        "\n",
        "* Your full name\n",
        "* Today Date\n",
        "\n",
        "\n",
        "\n",
        "Write a Line of python code to print “Hello World”"
      ]
    },
    {
      "cell_type": "markdown",
      "source": [
        "My name is Laura Gutiérrez and today is  Friday, July 28."
      ],
      "metadata": {
        "id": "57p_vlY5rcXo"
      }
    },
    {
      "cell_type": "code",
      "execution_count": 1,
      "metadata": {
        "colab": {
          "base_uri": "https://localhost:8080/"
        },
        "id": "kTkMFPKDq5rd",
        "outputId": "4a328f22-7a39-4e04-ff97-5c8c3b9babaf"
      },
      "outputs": [
        {
          "output_type": "stream",
          "name": "stdout",
          "text": [
            "Hello World\n"
          ]
        }
      ],
      "source": [
        "print(\"Hello World\")"
      ]
    },
    {
      "cell_type": "code",
      "execution_count": null,
      "metadata": {
        "id": "yPRw8uzWq5re"
      },
      "outputs": [],
      "source": [
        "# how to find your jupyter path"
      ]
    },
    {
      "cell_type": "code",
      "execution_count": 2,
      "metadata": {
        "colab": {
          "base_uri": "https://localhost:8080/",
          "height": 35
        },
        "id": "g9JcgfPGq5re",
        "outputId": "6c8413fa-53b2-474d-ed06-2ae43f879ab7"
      },
      "outputs": [
        {
          "output_type": "execute_result",
          "data": {
            "text/plain": [
              "'/content'"
            ],
            "application/vnd.google.colaboratory.intrinsic+json": {
              "type": "string"
            }
          },
          "metadata": {},
          "execution_count": 2
        }
      ],
      "source": [
        "pwd"
      ]
    },
    {
      "cell_type": "markdown",
      "metadata": {
        "id": "Qw3FlZh_q5re"
      },
      "source": [
        "# varibales"
      ]
    },
    {
      "cell_type": "code",
      "execution_count": 3,
      "metadata": {
        "colab": {
          "base_uri": "https://localhost:8080/"
        },
        "id": "AN0s4Rfaq5re",
        "outputId": "e8e436c1-34cd-482c-9459-20e357562369"
      },
      "outputs": [
        {
          "output_type": "stream",
          "name": "stdout",
          "text": [
            "numOfBoxes=  12\n",
            "ownerName=  Sofia\n"
          ]
        }
      ],
      "source": [
        "numOfBoxes = 12\n",
        "ownerName = \"Sofia\"\n",
        "print(\"numOfBoxes= \", numOfBoxes)\n",
        "print(\"ownerName= \", ownerName)\n"
      ]
    },
    {
      "cell_type": "markdown",
      "metadata": {
        "id": "fRHOUOOcq5re"
      },
      "source": [
        "# Lists"
      ]
    },
    {
      "cell_type": "code",
      "execution_count": 4,
      "metadata": {
        "colab": {
          "base_uri": "https://localhost:8080/"
        },
        "id": "O9bIIepEq5re",
        "outputId": "d441d408-1cf8-40cd-b57d-8dbabf7e21e9"
      },
      "outputs": [
        {
          "output_type": "stream",
          "name": "stdout",
          "text": [
            "1\n",
            "2\n",
            "3\n",
            "=============\n",
            "1\n",
            "2\n",
            "3\n"
          ]
        }
      ],
      "source": [
        "# Lists\n",
        "mylist = []\n",
        "mylist.append(1)\n",
        "mylist.append(2)\n",
        "mylist.append(3)\n",
        "print(mylist[0]) # prints 1\n",
        "print(mylist[1]) # prints 2\n",
        "print(mylist[2]) # prints 3\n",
        "\n",
        "print (\"=============\")\n",
        "\n",
        "# prints out 1, 2, 3\n",
        "for x in mylist:\n",
        "  print(x)\n"
      ]
    },
    {
      "cell_type": "markdown",
      "metadata": {
        "id": "6VKO-qRsq5rf"
      },
      "source": [
        "## Lab Activity 2\n",
        "\n",
        "In this exercise, you will need to add numbers and strings to the correct lists using the \"append\" list method. You must add the numbers 1,2, and 3 to the \"numbers\" list, and the words 'hello' and 'world' to the string variable.\n",
        "\n",
        "You will also have to fill in the variable second_name with the second name in the names list, using the brackets operator []. Note that the index is zero-based, so if you want to access the second item in the list, its index will be 1.\n",
        "\n",
        "\n"
      ]
    },
    {
      "cell_type": "code",
      "execution_count": 6,
      "metadata": {
        "id": "S6dN91Dbq5rf"
      },
      "outputs": [],
      "source": [
        "numbers =[]\n",
        "strings= []\n",
        "names = [\"John\",\"Eric\",\"Jessica\"]"
      ]
    },
    {
      "cell_type": "code",
      "execution_count": 9,
      "metadata": {
        "id": "OzkaROYuq5rf"
      },
      "outputs": [],
      "source": [
        "#write your code here\n",
        "\n",
        "numbers.append(1)\n",
        "numbers.append(2)\n",
        "numbers.append(3)\n",
        "strings.append(\"hello\")\n",
        "strings.append(\"world\")\n"
      ]
    },
    {
      "cell_type": "code",
      "execution_count": 10,
      "metadata": {
        "id": "_Wk-wLxjq5rf"
      },
      "outputs": [],
      "source": [
        "second_name= names[1]  ## write your code here\n",
        "\n"
      ]
    },
    {
      "cell_type": "code",
      "execution_count": 11,
      "metadata": {
        "colab": {
          "base_uri": "https://localhost:8080/"
        },
        "id": "ISHxgCmmq5rg",
        "outputId": "f4d472fb-5ca2-406b-b060-4a71585da80f"
      },
      "outputs": [
        {
          "output_type": "stream",
          "name": "stdout",
          "text": [
            "[1, 2, 3, 1, 2, 3]\n",
            "['hello', 'world']\n",
            "The second name on the names list is Eric\n"
          ]
        }
      ],
      "source": [
        "#this code should  write out the filled arrays and the second name in the names list (Eric)\n",
        "\n",
        "print (numbers)\n",
        "print (strings)\n",
        "print (\"The second name on the names list is %s\" % second_name)"
      ]
    },
    {
      "cell_type": "markdown",
      "metadata": {
        "id": "HjcdfQbhq5rg"
      },
      "source": [
        "# Basic Operators"
      ]
    },
    {
      "cell_type": "code",
      "execution_count": 14,
      "metadata": {
        "colab": {
          "base_uri": "https://localhost:8080/"
        },
        "id": "7mVhN4tNq5rg",
        "outputId": "ef0d0ea0-9dc2-4385-b659-819fba5c8d6d"
      },
      "outputs": [
        {
          "output_type": "stream",
          "name": "stdout",
          "text": [
            "2.5\n"
          ]
        }
      ],
      "source": [
        "# Arithmetic Operators\n",
        "number = 1 + 2 * 3 / 4.0\n",
        "print(number)"
      ]
    },
    {
      "cell_type": "code",
      "execution_count": 15,
      "metadata": {
        "colab": {
          "base_uri": "https://localhost:8080/"
        },
        "id": "Y-6_b8yRq5rg",
        "outputId": "fe0b7d84-3b15-4649-9e48-b094f002d78a"
      },
      "outputs": [
        {
          "output_type": "stream",
          "name": "stdout",
          "text": [
            "2\n"
          ]
        }
      ],
      "source": [
        "remainder = 11 % 3\n",
        "print(remainder)"
      ]
    },
    {
      "cell_type": "code",
      "execution_count": 16,
      "metadata": {
        "colab": {
          "base_uri": "https://localhost:8080/"
        },
        "id": "I-_PtCJAq5rg",
        "outputId": "10db0183-8028-48f3-fb5c-427097569600"
      },
      "outputs": [
        {
          "output_type": "stream",
          "name": "stdout",
          "text": [
            "49\n",
            "8\n"
          ]
        }
      ],
      "source": [
        "# Using two multiplication symbols makes a power relationship\n",
        "squared = 7 ** 2\n",
        "cubed = 2 ** 3\n",
        "print (squared)\n",
        "print(cubed)"
      ]
    },
    {
      "cell_type": "markdown",
      "metadata": {
        "id": "DwTu3f-Bq5rg"
      },
      "source": [
        "# Conditions"
      ]
    },
    {
      "cell_type": "code",
      "execution_count": 17,
      "metadata": {
        "colab": {
          "base_uri": "https://localhost:8080/"
        },
        "id": "uHtj1FIaq5rg",
        "outputId": "c58a3739-d598-465d-f785-64f2f0cea9b3"
      },
      "outputs": [
        {
          "output_type": "stream",
          "name": "stdout",
          "text": [
            "True\n",
            "False\n",
            "True\n"
          ]
        }
      ],
      "source": [
        "x = 2\n",
        "print(x == 2) # prints out True\n",
        "print(x == 3) # prints out False\n",
        "print(x < 3) # prints out True"
      ]
    },
    {
      "cell_type": "code",
      "execution_count": 18,
      "metadata": {
        "colab": {
          "base_uri": "https://localhost:8080/"
        },
        "id": "xAml5J0Uq5rh",
        "outputId": "673d5237-2fee-4cc2-d8cb-01d8da7fc40e"
      },
      "outputs": [
        {
          "output_type": "stream",
          "name": "stdout",
          "text": [
            "Your name is John, and you are also 23 years old.\n",
            "Your name is either John or Rick.\n"
          ]
        }
      ],
      "source": [
        "name = \"John\"\n",
        "age = 23\n",
        "if name == \"John\" and age == 23:\n",
        "  print(\"Your name is John, and you are also 23 years old.\")\n",
        "\n",
        "if name == \"John\" or name == \"Rick\":\n",
        "  print(\"Your name is either John or Rick.\")"
      ]
    },
    {
      "cell_type": "code",
      "execution_count": 19,
      "metadata": {
        "colab": {
          "base_uri": "https://localhost:8080/"
        },
        "id": "nExifpyIq5rh",
        "outputId": "3e43884f-7f13-4af6-aa2a-f3ec745ea1eb"
      },
      "outputs": [
        {
          "output_type": "stream",
          "name": "stdout",
          "text": [
            "Your name is either John or Rick.\n"
          ]
        }
      ],
      "source": [
        "# the \"in\" operaton\n",
        "\n",
        "name = \"John\"\n",
        "if name in [\"John\", \"Rick\"]:\n",
        "  print(\"Your name is either John or Rick.\")"
      ]
    },
    {
      "cell_type": "markdown",
      "metadata": {
        "id": "8BJ7WR06q5rh"
      },
      "source": [
        "## Lab Activity 3\n",
        "\n",
        "In the following code, change the variables in the first section, so that each if statement resolves as True.\n",
        "You should generarte the follwoing output:\n",
        "\n",
        "1\n",
        "\n",
        "2\n",
        "\n",
        "3\n",
        "\n",
        "4\n"
      ]
    },
    {
      "cell_type": "code",
      "execution_count": 20,
      "metadata": {
        "id": "uolGlikAq5rh"
      },
      "outputs": [],
      "source": [
        "number = 17\n",
        "second_number = 10\n",
        "first_array = [1,2,3]\n",
        "second_array= [1,2]"
      ]
    },
    {
      "cell_type": "code",
      "execution_count": 21,
      "metadata": {
        "colab": {
          "base_uri": "https://localhost:8080/"
        },
        "id": "Ocg5F5-Kq5rh",
        "outputId": "1872430f-fc08-48c4-9357-564e69ea0363"
      },
      "outputs": [
        {
          "output_type": "stream",
          "name": "stdout",
          "text": [
            "1\n"
          ]
        }
      ],
      "source": [
        "if number > 15:\n",
        "    print (\"1\")"
      ]
    },
    {
      "cell_type": "code",
      "execution_count": 22,
      "metadata": {
        "colab": {
          "base_uri": "https://localhost:8080/"
        },
        "id": "n0Pn2eypq5rh",
        "outputId": "1b4ce802-0fdd-4d05-fb49-2b35a8588c93"
      },
      "outputs": [
        {
          "output_type": "stream",
          "name": "stdout",
          "text": [
            "2\n"
          ]
        }
      ],
      "source": [
        "if first_array:\n",
        "    print (\"2\")"
      ]
    },
    {
      "cell_type": "code",
      "execution_count": 23,
      "metadata": {
        "colab": {
          "base_uri": "https://localhost:8080/"
        },
        "id": "2uIBCQnDq5ri",
        "outputId": "f32f3af5-5f37-4056-b9fb-16f1e86f0511"
      },
      "outputs": [
        {
          "output_type": "stream",
          "name": "stdout",
          "text": [
            "3\n"
          ]
        }
      ],
      "source": [
        "if len (second_array)==2 :\n",
        "    print (\"3\")"
      ]
    },
    {
      "cell_type": "code",
      "execution_count": 24,
      "metadata": {
        "colab": {
          "base_uri": "https://localhost:8080/"
        },
        "id": "_1LHhDP0q5ri",
        "outputId": "b0942322-7d12-4d95-cdf7-323be15b839f"
      },
      "outputs": [
        {
          "output_type": "stream",
          "name": "stdout",
          "text": [
            "4\n"
          ]
        }
      ],
      "source": [
        "if len (first_array) + len (second_array)==5:\n",
        "    print (\"4\")"
      ]
    },
    {
      "cell_type": "code",
      "execution_count": 24,
      "metadata": {
        "id": "riyjbAzfq5ri"
      },
      "outputs": [],
      "source": []
    },
    {
      "cell_type": "markdown",
      "metadata": {
        "id": "rZgoSPDSq5ri"
      },
      "source": [
        "# Loops"
      ]
    },
    {
      "cell_type": "code",
      "execution_count": 25,
      "metadata": {
        "colab": {
          "base_uri": "https://localhost:8080/"
        },
        "id": "q3PKzaWoq5rj",
        "outputId": "1568cd00-ecb8-4ae5-8cc8-2fda1c4f4f21"
      },
      "outputs": [
        {
          "output_type": "stream",
          "name": "stdout",
          "text": [
            "[2, 3, 5, 7]\n",
            "[2, 3, 5, 7]\n",
            "[2, 3, 5, 7]\n",
            "[2, 3, 5, 7]\n"
          ]
        }
      ],
      "source": [
        "primes = [2, 3, 5, 7]\n",
        "for prime in primes:\n",
        "  print(primes)"
      ]
    },
    {
      "cell_type": "code",
      "execution_count": 26,
      "metadata": {
        "colab": {
          "base_uri": "https://localhost:8080/"
        },
        "id": "6YLF6rSWq5rj",
        "outputId": "41060076-3213-4200-e97a-87226f37cbfc"
      },
      "outputs": [
        {
          "output_type": "stream",
          "name": "stdout",
          "text": [
            "0\n",
            "1\n",
            "2\n",
            "3\n",
            "4\n"
          ]
        }
      ],
      "source": [
        "# Prints out 0,1,2,3,4\n",
        "\n",
        "count = 0\n",
        "while count < 5:\n",
        "  print(count)\n",
        "  count += 1 # This is the same as count = count + 1\n"
      ]
    },
    {
      "cell_type": "code",
      "execution_count": 27,
      "metadata": {
        "colab": {
          "base_uri": "https://localhost:8080/"
        },
        "id": "5zb7Dpgnq5rj",
        "outputId": "19a2027a-a067-406c-c616-8991a53d82ec"
      },
      "outputs": [
        {
          "output_type": "stream",
          "name": "stdout",
          "text": [
            "0\n",
            "1\n",
            "2\n",
            "3\n",
            "4\n",
            "1\n",
            "3\n",
            "5\n",
            "7\n",
            "9\n"
          ]
        }
      ],
      "source": [
        "# Prints out 0,1,2,3,4\n",
        "\n",
        "count = 0\n",
        "while True:\n",
        "  print(count)\n",
        "  count += 1\n",
        "  if count >= 5:\n",
        "    break\n",
        "\n",
        "# Prints out only odd numbers - 1,3,5,7,9\n",
        "for x in range (10):\n",
        "  #Check if x is even\n",
        "  if x % 2 == 0:\n",
        "    continue\n",
        "  print(x)\n",
        ""
      ]
    },
    {
      "cell_type": "markdown",
      "metadata": {
        "id": "2XS_GE7Kq5rj"
      },
      "source": [
        "# Lab Activity 4\n",
        "\n",
        "Write a loop to calculate the factorial for the value stored in varibale inputVar"
      ]
    },
    {
      "cell_type": "code",
      "execution_count": 28,
      "metadata": {
        "id": "AaD4yYn1q5r1"
      },
      "outputs": [],
      "source": [
        "inputVar = 5"
      ]
    },
    {
      "cell_type": "code",
      "execution_count": 37,
      "metadata": {
        "id": "E_n3dYD_q5r1"
      },
      "outputs": [],
      "source": [
        "factorial = 0\n",
        "x = 0\n",
        "while x <= inputVar:\n",
        "  if x == 0:\n",
        "    factorial = 1\n",
        "  else:\n",
        "    factorial = factorial * x\n",
        "  x += 1"
      ]
    },
    {
      "cell_type": "code",
      "execution_count": 38,
      "metadata": {
        "colab": {
          "base_uri": "https://localhost:8080/"
        },
        "id": "-tz_wlEOq5r2",
        "outputId": "d04ddf76-0fa6-433e-ac43-6bd4e227e7d5"
      },
      "outputs": [
        {
          "output_type": "stream",
          "name": "stdout",
          "text": [
            "120\n"
          ]
        }
      ],
      "source": [
        "print(factorial)"
      ]
    },
    {
      "cell_type": "markdown",
      "metadata": {
        "id": "sQTXJa1yq5r2"
      },
      "source": [
        "\n",
        "\n",
        "\n",
        "# Working with data frames in Python\n",
        "\n",
        "\n",
        "\n"
      ]
    },
    {
      "cell_type": "code",
      "execution_count": 1,
      "metadata": {
        "id": "5U_OYpARq5r2"
      },
      "outputs": [],
      "source": [
        "\n",
        "import pandas as pd\n",
        "import seaborn as sns\n",
        "import matplotlib.pyplot as plt\n",
        "import numpy as np"
      ]
    },
    {
      "cell_type": "code",
      "execution_count": null,
      "metadata": {
        "id": "d4otJT2Xq5r2"
      },
      "outputs": [],
      "source": []
    },
    {
      "cell_type": "code",
      "execution_count": null,
      "metadata": {
        "id": "nHt33hNfq5r2"
      },
      "outputs": [],
      "source": [
        "#---- if you need to install any python packagaes\n",
        "\n",
        "#import sys\n",
        "#!{sys.executable} -m pip install numpy"
      ]
    },
    {
      "cell_type": "markdown",
      "metadata": {
        "id": "LFlquEmtq5r2"
      },
      "source": [
        "## Loading data into a dataframe"
      ]
    },
    {
      "cell_type": "code",
      "source": [
        "pwd"
      ],
      "metadata": {
        "colab": {
          "base_uri": "https://localhost:8080/",
          "height": 35
        },
        "id": "cVDE-EUNi32w",
        "outputId": "9555efb2-1748-4fc8-d851-0b97fba5bcbe"
      },
      "execution_count": 8,
      "outputs": [
        {
          "output_type": "execute_result",
          "data": {
            "text/plain": [
              "'/content'"
            ],
            "application/vnd.google.colaboratory.intrinsic+json": {
              "type": "string"
            }
          },
          "metadata": {},
          "execution_count": 8
        }
      ]
    },
    {
      "cell_type": "code",
      "execution_count": 9,
      "metadata": {
        "id": "1NPh0Bd_q5r3"
      },
      "outputs": [],
      "source": [
        "dfMain = pd.read_csv(\"Loans_Dataset.csv\")"
      ]
    },
    {
      "cell_type": "code",
      "execution_count": 10,
      "metadata": {
        "colab": {
          "base_uri": "https://localhost:8080/"
        },
        "id": "h1JFYrIKq5r3",
        "outputId": "54a51f59-c1d5-4dab-c974-2268dd739b38"
      },
      "outputs": [
        {
          "output_type": "execute_result",
          "data": {
            "text/plain": [
              "(233154, 29)"
            ]
          },
          "metadata": {},
          "execution_count": 10
        }
      ],
      "source": [
        "dfMain.shape"
      ]
    },
    {
      "cell_type": "code",
      "execution_count": 11,
      "metadata": {
        "colab": {
          "base_uri": "https://localhost:8080/",
          "height": 474
        },
        "id": "Gx7WG0xmq5r3",
        "outputId": "57cbc805-88d4-4da3-ba0f-5d056577cfe3"
      },
      "outputs": [
        {
          "output_type": "execute_result",
          "data": {
            "text/plain": [
              "   UniqueID  disbursed_amount  asset_cost    ltv  branch_id  supplier_id  \\\n",
              "0    420825             50578       58400  89.55         67        22807   \n",
              "1    537409             47145       65550  73.23         67        22807   \n",
              "2    417566             53278       61360  89.63         67        22807   \n",
              "3    624493             57513       66113  88.48         67        22807   \n",
              "4    539055             52378       60300  88.39         67        22807   \n",
              "5    518279             54513       61900  89.66         67        22807   \n",
              "6    529269             46349       61500  76.42         67        22807   \n",
              "7    510278             43894       61900  71.89         67        22807   \n",
              "8    490213             53713       61973  89.56         67        22807   \n",
              "9    510980             52603       61300  86.95         67        22807   \n",
              "\n",
              "   manufacturer_id  Current_pincode_ID Date.of.Birth Employment.Type  ...  \\\n",
              "0               45                1441      1/1/1984        Salaried  ...   \n",
              "1               45                1502      31-07-85   Self employed  ...   \n",
              "2               45                1497      24-08-85   Self employed  ...   \n",
              "3               45                1501      30-12-93   Self employed  ...   \n",
              "4               45                1495     9/12/1977   Self employed  ...   \n",
              "5               45                1501      8/9/1990   Self employed  ...   \n",
              "6               45                1502      1/6/1988        Salaried  ...   \n",
              "7               45                1501     4/10/1989        Salaried  ...   \n",
              "8               45                1497      15-11-91   Self employed  ...   \n",
              "9               45                1492      1/6/1968        Salaried  ...   \n",
              "\n",
              "  PERFORM_CNS.SCORE                      PERFORM_CNS.SCORE.DESCRIPTION  \\\n",
              "0                 0                        No Bureau History Available   \n",
              "1               598                                      I-Medium Risk   \n",
              "2                 0                        No Bureau History Available   \n",
              "3               305                                   L-Very High Risk   \n",
              "4                 0                        No Bureau History Available   \n",
              "5               825                                    A-Very Low Risk   \n",
              "6                 0                        No Bureau History Available   \n",
              "7                17  Not Scored: Not Enough Info available on the c...   \n",
              "8               718                                    D-Very Low Risk   \n",
              "9               818                                    A-Very Low Risk   \n",
              "\n",
              "   PRI.NO.OF.ACCTS  PRI.ACTIVE.ACCTS  PRI.OVERDUE.ACCTS  PRI.CURRENT.BALANCE  \\\n",
              "0                0                 0                  0                    0   \n",
              "1                1                 1                  1                27600   \n",
              "2                0                 0                  0                    0   \n",
              "3                3                 0                  0                    0   \n",
              "4                0                 0                  0                    0   \n",
              "5                2                 0                  0                    0   \n",
              "6                0                 0                  0                    0   \n",
              "7                1                 1                  0                72879   \n",
              "8                1                 1                  0                  -41   \n",
              "9                1                 0                  0                    0   \n",
              "\n",
              "   PRI.SANCTIONED.AMOUNT  PRI.DISBURSED.AMOUNT  NO.OF_INQUIRIES  loan_default  \n",
              "0                      0                     0                0             0  \n",
              "1                  50200                 50200                0             1  \n",
              "2                      0                     0                0             0  \n",
              "3                      0                     0                1             1  \n",
              "4                      0                     0                1             1  \n",
              "5                      0                     0                0             0  \n",
              "6                      0                     0                0             0  \n",
              "7                  74500                 74500                0             0  \n",
              "8                 365384                365384                1             0  \n",
              "9                      0                     0                0             0  \n",
              "\n",
              "[10 rows x 29 columns]"
            ],
            "text/html": [
              "\n",
              "\n",
              "  <div id=\"df-b1314e8b-686e-4883-a5e4-324423edbd26\">\n",
              "    <div class=\"colab-df-container\">\n",
              "      <div>\n",
              "<style scoped>\n",
              "    .dataframe tbody tr th:only-of-type {\n",
              "        vertical-align: middle;\n",
              "    }\n",
              "\n",
              "    .dataframe tbody tr th {\n",
              "        vertical-align: top;\n",
              "    }\n",
              "\n",
              "    .dataframe thead th {\n",
              "        text-align: right;\n",
              "    }\n",
              "</style>\n",
              "<table border=\"1\" class=\"dataframe\">\n",
              "  <thead>\n",
              "    <tr style=\"text-align: right;\">\n",
              "      <th></th>\n",
              "      <th>UniqueID</th>\n",
              "      <th>disbursed_amount</th>\n",
              "      <th>asset_cost</th>\n",
              "      <th>ltv</th>\n",
              "      <th>branch_id</th>\n",
              "      <th>supplier_id</th>\n",
              "      <th>manufacturer_id</th>\n",
              "      <th>Current_pincode_ID</th>\n",
              "      <th>Date.of.Birth</th>\n",
              "      <th>Employment.Type</th>\n",
              "      <th>...</th>\n",
              "      <th>PERFORM_CNS.SCORE</th>\n",
              "      <th>PERFORM_CNS.SCORE.DESCRIPTION</th>\n",
              "      <th>PRI.NO.OF.ACCTS</th>\n",
              "      <th>PRI.ACTIVE.ACCTS</th>\n",
              "      <th>PRI.OVERDUE.ACCTS</th>\n",
              "      <th>PRI.CURRENT.BALANCE</th>\n",
              "      <th>PRI.SANCTIONED.AMOUNT</th>\n",
              "      <th>PRI.DISBURSED.AMOUNT</th>\n",
              "      <th>NO.OF_INQUIRIES</th>\n",
              "      <th>loan_default</th>\n",
              "    </tr>\n",
              "  </thead>\n",
              "  <tbody>\n",
              "    <tr>\n",
              "      <th>0</th>\n",
              "      <td>420825</td>\n",
              "      <td>50578</td>\n",
              "      <td>58400</td>\n",
              "      <td>89.55</td>\n",
              "      <td>67</td>\n",
              "      <td>22807</td>\n",
              "      <td>45</td>\n",
              "      <td>1441</td>\n",
              "      <td>1/1/1984</td>\n",
              "      <td>Salaried</td>\n",
              "      <td>...</td>\n",
              "      <td>0</td>\n",
              "      <td>No Bureau History Available</td>\n",
              "      <td>0</td>\n",
              "      <td>0</td>\n",
              "      <td>0</td>\n",
              "      <td>0</td>\n",
              "      <td>0</td>\n",
              "      <td>0</td>\n",
              "      <td>0</td>\n",
              "      <td>0</td>\n",
              "    </tr>\n",
              "    <tr>\n",
              "      <th>1</th>\n",
              "      <td>537409</td>\n",
              "      <td>47145</td>\n",
              "      <td>65550</td>\n",
              "      <td>73.23</td>\n",
              "      <td>67</td>\n",
              "      <td>22807</td>\n",
              "      <td>45</td>\n",
              "      <td>1502</td>\n",
              "      <td>31-07-85</td>\n",
              "      <td>Self employed</td>\n",
              "      <td>...</td>\n",
              "      <td>598</td>\n",
              "      <td>I-Medium Risk</td>\n",
              "      <td>1</td>\n",
              "      <td>1</td>\n",
              "      <td>1</td>\n",
              "      <td>27600</td>\n",
              "      <td>50200</td>\n",
              "      <td>50200</td>\n",
              "      <td>0</td>\n",
              "      <td>1</td>\n",
              "    </tr>\n",
              "    <tr>\n",
              "      <th>2</th>\n",
              "      <td>417566</td>\n",
              "      <td>53278</td>\n",
              "      <td>61360</td>\n",
              "      <td>89.63</td>\n",
              "      <td>67</td>\n",
              "      <td>22807</td>\n",
              "      <td>45</td>\n",
              "      <td>1497</td>\n",
              "      <td>24-08-85</td>\n",
              "      <td>Self employed</td>\n",
              "      <td>...</td>\n",
              "      <td>0</td>\n",
              "      <td>No Bureau History Available</td>\n",
              "      <td>0</td>\n",
              "      <td>0</td>\n",
              "      <td>0</td>\n",
              "      <td>0</td>\n",
              "      <td>0</td>\n",
              "      <td>0</td>\n",
              "      <td>0</td>\n",
              "      <td>0</td>\n",
              "    </tr>\n",
              "    <tr>\n",
              "      <th>3</th>\n",
              "      <td>624493</td>\n",
              "      <td>57513</td>\n",
              "      <td>66113</td>\n",
              "      <td>88.48</td>\n",
              "      <td>67</td>\n",
              "      <td>22807</td>\n",
              "      <td>45</td>\n",
              "      <td>1501</td>\n",
              "      <td>30-12-93</td>\n",
              "      <td>Self employed</td>\n",
              "      <td>...</td>\n",
              "      <td>305</td>\n",
              "      <td>L-Very High Risk</td>\n",
              "      <td>3</td>\n",
              "      <td>0</td>\n",
              "      <td>0</td>\n",
              "      <td>0</td>\n",
              "      <td>0</td>\n",
              "      <td>0</td>\n",
              "      <td>1</td>\n",
              "      <td>1</td>\n",
              "    </tr>\n",
              "    <tr>\n",
              "      <th>4</th>\n",
              "      <td>539055</td>\n",
              "      <td>52378</td>\n",
              "      <td>60300</td>\n",
              "      <td>88.39</td>\n",
              "      <td>67</td>\n",
              "      <td>22807</td>\n",
              "      <td>45</td>\n",
              "      <td>1495</td>\n",
              "      <td>9/12/1977</td>\n",
              "      <td>Self employed</td>\n",
              "      <td>...</td>\n",
              "      <td>0</td>\n",
              "      <td>No Bureau History Available</td>\n",
              "      <td>0</td>\n",
              "      <td>0</td>\n",
              "      <td>0</td>\n",
              "      <td>0</td>\n",
              "      <td>0</td>\n",
              "      <td>0</td>\n",
              "      <td>1</td>\n",
              "      <td>1</td>\n",
              "    </tr>\n",
              "    <tr>\n",
              "      <th>5</th>\n",
              "      <td>518279</td>\n",
              "      <td>54513</td>\n",
              "      <td>61900</td>\n",
              "      <td>89.66</td>\n",
              "      <td>67</td>\n",
              "      <td>22807</td>\n",
              "      <td>45</td>\n",
              "      <td>1501</td>\n",
              "      <td>8/9/1990</td>\n",
              "      <td>Self employed</td>\n",
              "      <td>...</td>\n",
              "      <td>825</td>\n",
              "      <td>A-Very Low Risk</td>\n",
              "      <td>2</td>\n",
              "      <td>0</td>\n",
              "      <td>0</td>\n",
              "      <td>0</td>\n",
              "      <td>0</td>\n",
              "      <td>0</td>\n",
              "      <td>0</td>\n",
              "      <td>0</td>\n",
              "    </tr>\n",
              "    <tr>\n",
              "      <th>6</th>\n",
              "      <td>529269</td>\n",
              "      <td>46349</td>\n",
              "      <td>61500</td>\n",
              "      <td>76.42</td>\n",
              "      <td>67</td>\n",
              "      <td>22807</td>\n",
              "      <td>45</td>\n",
              "      <td>1502</td>\n",
              "      <td>1/6/1988</td>\n",
              "      <td>Salaried</td>\n",
              "      <td>...</td>\n",
              "      <td>0</td>\n",
              "      <td>No Bureau History Available</td>\n",
              "      <td>0</td>\n",
              "      <td>0</td>\n",
              "      <td>0</td>\n",
              "      <td>0</td>\n",
              "      <td>0</td>\n",
              "      <td>0</td>\n",
              "      <td>0</td>\n",
              "      <td>0</td>\n",
              "    </tr>\n",
              "    <tr>\n",
              "      <th>7</th>\n",
              "      <td>510278</td>\n",
              "      <td>43894</td>\n",
              "      <td>61900</td>\n",
              "      <td>71.89</td>\n",
              "      <td>67</td>\n",
              "      <td>22807</td>\n",
              "      <td>45</td>\n",
              "      <td>1501</td>\n",
              "      <td>4/10/1989</td>\n",
              "      <td>Salaried</td>\n",
              "      <td>...</td>\n",
              "      <td>17</td>\n",
              "      <td>Not Scored: Not Enough Info available on the c...</td>\n",
              "      <td>1</td>\n",
              "      <td>1</td>\n",
              "      <td>0</td>\n",
              "      <td>72879</td>\n",
              "      <td>74500</td>\n",
              "      <td>74500</td>\n",
              "      <td>0</td>\n",
              "      <td>0</td>\n",
              "    </tr>\n",
              "    <tr>\n",
              "      <th>8</th>\n",
              "      <td>490213</td>\n",
              "      <td>53713</td>\n",
              "      <td>61973</td>\n",
              "      <td>89.56</td>\n",
              "      <td>67</td>\n",
              "      <td>22807</td>\n",
              "      <td>45</td>\n",
              "      <td>1497</td>\n",
              "      <td>15-11-91</td>\n",
              "      <td>Self employed</td>\n",
              "      <td>...</td>\n",
              "      <td>718</td>\n",
              "      <td>D-Very Low Risk</td>\n",
              "      <td>1</td>\n",
              "      <td>1</td>\n",
              "      <td>0</td>\n",
              "      <td>-41</td>\n",
              "      <td>365384</td>\n",
              "      <td>365384</td>\n",
              "      <td>1</td>\n",
              "      <td>0</td>\n",
              "    </tr>\n",
              "    <tr>\n",
              "      <th>9</th>\n",
              "      <td>510980</td>\n",
              "      <td>52603</td>\n",
              "      <td>61300</td>\n",
              "      <td>86.95</td>\n",
              "      <td>67</td>\n",
              "      <td>22807</td>\n",
              "      <td>45</td>\n",
              "      <td>1492</td>\n",
              "      <td>1/6/1968</td>\n",
              "      <td>Salaried</td>\n",
              "      <td>...</td>\n",
              "      <td>818</td>\n",
              "      <td>A-Very Low Risk</td>\n",
              "      <td>1</td>\n",
              "      <td>0</td>\n",
              "      <td>0</td>\n",
              "      <td>0</td>\n",
              "      <td>0</td>\n",
              "      <td>0</td>\n",
              "      <td>0</td>\n",
              "      <td>0</td>\n",
              "    </tr>\n",
              "  </tbody>\n",
              "</table>\n",
              "<p>10 rows × 29 columns</p>\n",
              "</div>\n",
              "      <button class=\"colab-df-convert\" onclick=\"convertToInteractive('df-b1314e8b-686e-4883-a5e4-324423edbd26')\"\n",
              "              title=\"Convert this dataframe to an interactive table.\"\n",
              "              style=\"display:none;\">\n",
              "\n",
              "  <svg xmlns=\"http://www.w3.org/2000/svg\" height=\"24px\"viewBox=\"0 0 24 24\"\n",
              "       width=\"24px\">\n",
              "    <path d=\"M0 0h24v24H0V0z\" fill=\"none\"/>\n",
              "    <path d=\"M18.56 5.44l.94 2.06.94-2.06 2.06-.94-2.06-.94-.94-2.06-.94 2.06-2.06.94zm-11 1L8.5 8.5l.94-2.06 2.06-.94-2.06-.94L8.5 2.5l-.94 2.06-2.06.94zm10 10l.94 2.06.94-2.06 2.06-.94-2.06-.94-.94-2.06-.94 2.06-2.06.94z\"/><path d=\"M17.41 7.96l-1.37-1.37c-.4-.4-.92-.59-1.43-.59-.52 0-1.04.2-1.43.59L10.3 9.45l-7.72 7.72c-.78.78-.78 2.05 0 2.83L4 21.41c.39.39.9.59 1.41.59.51 0 1.02-.2 1.41-.59l7.78-7.78 2.81-2.81c.8-.78.8-2.07 0-2.86zM5.41 20L4 18.59l7.72-7.72 1.47 1.35L5.41 20z\"/>\n",
              "  </svg>\n",
              "      </button>\n",
              "\n",
              "\n",
              "\n",
              "    <div id=\"df-be189dd2-f63f-4243-8706-d89491e2597d\">\n",
              "      <button class=\"colab-df-quickchart\" onclick=\"quickchart('df-be189dd2-f63f-4243-8706-d89491e2597d')\"\n",
              "              title=\"Suggest charts.\"\n",
              "              style=\"display:none;\">\n",
              "\n",
              "<svg xmlns=\"http://www.w3.org/2000/svg\" height=\"24px\"viewBox=\"0 0 24 24\"\n",
              "     width=\"24px\">\n",
              "    <g>\n",
              "        <path d=\"M19 3H5c-1.1 0-2 .9-2 2v14c0 1.1.9 2 2 2h14c1.1 0 2-.9 2-2V5c0-1.1-.9-2-2-2zM9 17H7v-7h2v7zm4 0h-2V7h2v10zm4 0h-2v-4h2v4z\"/>\n",
              "    </g>\n",
              "</svg>\n",
              "      </button>\n",
              "    </div>\n",
              "\n",
              "<style>\n",
              "  .colab-df-quickchart {\n",
              "    background-color: #E8F0FE;\n",
              "    border: none;\n",
              "    border-radius: 50%;\n",
              "    cursor: pointer;\n",
              "    display: none;\n",
              "    fill: #1967D2;\n",
              "    height: 32px;\n",
              "    padding: 0 0 0 0;\n",
              "    width: 32px;\n",
              "  }\n",
              "\n",
              "  .colab-df-quickchart:hover {\n",
              "    background-color: #E2EBFA;\n",
              "    box-shadow: 0px 1px 2px rgba(60, 64, 67, 0.3), 0px 1px 3px 1px rgba(60, 64, 67, 0.15);\n",
              "    fill: #174EA6;\n",
              "  }\n",
              "\n",
              "  [theme=dark] .colab-df-quickchart {\n",
              "    background-color: #3B4455;\n",
              "    fill: #D2E3FC;\n",
              "  }\n",
              "\n",
              "  [theme=dark] .colab-df-quickchart:hover {\n",
              "    background-color: #434B5C;\n",
              "    box-shadow: 0px 1px 3px 1px rgba(0, 0, 0, 0.15);\n",
              "    filter: drop-shadow(0px 1px 2px rgba(0, 0, 0, 0.3));\n",
              "    fill: #FFFFFF;\n",
              "  }\n",
              "</style>\n",
              "\n",
              "    <script>\n",
              "      async function quickchart(key) {\n",
              "        const containerElement = document.querySelector('#' + key);\n",
              "        const charts = await google.colab.kernel.invokeFunction(\n",
              "            'suggestCharts', [key], {});\n",
              "      }\n",
              "    </script>\n",
              "\n",
              "      <script>\n",
              "\n",
              "function displayQuickchartButton(domScope) {\n",
              "  let quickchartButtonEl =\n",
              "    domScope.querySelector('#df-be189dd2-f63f-4243-8706-d89491e2597d button.colab-df-quickchart');\n",
              "  quickchartButtonEl.style.display =\n",
              "    google.colab.kernel.accessAllowed ? 'block' : 'none';\n",
              "}\n",
              "\n",
              "        displayQuickchartButton(document);\n",
              "      </script>\n",
              "      <style>\n",
              "    .colab-df-container {\n",
              "      display:flex;\n",
              "      flex-wrap:wrap;\n",
              "      gap: 12px;\n",
              "    }\n",
              "\n",
              "    .colab-df-convert {\n",
              "      background-color: #E8F0FE;\n",
              "      border: none;\n",
              "      border-radius: 50%;\n",
              "      cursor: pointer;\n",
              "      display: none;\n",
              "      fill: #1967D2;\n",
              "      height: 32px;\n",
              "      padding: 0 0 0 0;\n",
              "      width: 32px;\n",
              "    }\n",
              "\n",
              "    .colab-df-convert:hover {\n",
              "      background-color: #E2EBFA;\n",
              "      box-shadow: 0px 1px 2px rgba(60, 64, 67, 0.3), 0px 1px 3px 1px rgba(60, 64, 67, 0.15);\n",
              "      fill: #174EA6;\n",
              "    }\n",
              "\n",
              "    [theme=dark] .colab-df-convert {\n",
              "      background-color: #3B4455;\n",
              "      fill: #D2E3FC;\n",
              "    }\n",
              "\n",
              "    [theme=dark] .colab-df-convert:hover {\n",
              "      background-color: #434B5C;\n",
              "      box-shadow: 0px 1px 3px 1px rgba(0, 0, 0, 0.15);\n",
              "      filter: drop-shadow(0px 1px 2px rgba(0, 0, 0, 0.3));\n",
              "      fill: #FFFFFF;\n",
              "    }\n",
              "  </style>\n",
              "\n",
              "      <script>\n",
              "        const buttonEl =\n",
              "          document.querySelector('#df-b1314e8b-686e-4883-a5e4-324423edbd26 button.colab-df-convert');\n",
              "        buttonEl.style.display =\n",
              "          google.colab.kernel.accessAllowed ? 'block' : 'none';\n",
              "\n",
              "        async function convertToInteractive(key) {\n",
              "          const element = document.querySelector('#df-b1314e8b-686e-4883-a5e4-324423edbd26');\n",
              "          const dataTable =\n",
              "            await google.colab.kernel.invokeFunction('convertToInteractive',\n",
              "                                                     [key], {});\n",
              "          if (!dataTable) return;\n",
              "\n",
              "          const docLinkHtml = 'Like what you see? Visit the ' +\n",
              "            '<a target=\"_blank\" href=https://colab.research.google.com/notebooks/data_table.ipynb>data table notebook</a>'\n",
              "            + ' to learn more about interactive tables.';\n",
              "          element.innerHTML = '';\n",
              "          dataTable['output_type'] = 'display_data';\n",
              "          await google.colab.output.renderOutput(dataTable, element);\n",
              "          const docLink = document.createElement('div');\n",
              "          docLink.innerHTML = docLinkHtml;\n",
              "          element.appendChild(docLink);\n",
              "        }\n",
              "      </script>\n",
              "    </div>\n",
              "  </div>\n"
            ]
          },
          "metadata": {},
          "execution_count": 11
        }
      ],
      "source": [
        "dfMain.head(10)"
      ]
    },
    {
      "cell_type": "code",
      "execution_count": 12,
      "metadata": {
        "colab": {
          "base_uri": "https://localhost:8080/"
        },
        "id": "4gpE_1_jq5r3",
        "outputId": "3e9e8321-15cb-4a2c-8b85-ab69d0d7d67a"
      },
      "outputs": [
        {
          "output_type": "execute_result",
          "data": {
            "text/plain": [
              "0         Salaried\n",
              "1    Self employed\n",
              "2    Self employed\n",
              "3    Self employed\n",
              "4    Self employed\n",
              "Name: Employment.Type, dtype: object"
            ]
          },
          "metadata": {},
          "execution_count": 12
        }
      ],
      "source": [
        "dfMain[\"Employment.Type\"].head()"
      ]
    },
    {
      "cell_type": "code",
      "execution_count": 13,
      "metadata": {
        "colab": {
          "base_uri": "https://localhost:8080/"
        },
        "id": "9D83-YrDq5r3",
        "outputId": "e77ec96b-fcf7-4831-f94a-6417517e57ca"
      },
      "outputs": [
        {
          "output_type": "execute_result",
          "data": {
            "text/plain": [
              "count    2.331540e+05\n",
              "mean     7.586507e+04\n",
              "std      1.894478e+04\n",
              "min      3.700000e+04\n",
              "25%      6.571700e+04\n",
              "50%      7.094600e+04\n",
              "75%      7.920175e+04\n",
              "max      1.628992e+06\n",
              "Name: asset_cost, dtype: float64"
            ]
          },
          "metadata": {},
          "execution_count": 13
        }
      ],
      "source": [
        "dfMain[\"asset_cost\"].describe()"
      ]
    },
    {
      "cell_type": "code",
      "execution_count": 14,
      "metadata": {
        "colab": {
          "base_uri": "https://localhost:8080/"
        },
        "id": "nYFzspY6q5r3",
        "outputId": "58d9a353-382b-4674-c739-9c12a544507f"
      },
      "outputs": [
        {
          "output_type": "execute_result",
          "data": {
            "text/plain": [
              "UniqueID                           int64\n",
              "disbursed_amount                   int64\n",
              "asset_cost                         int64\n",
              "ltv                              float64\n",
              "branch_id                          int64\n",
              "supplier_id                        int64\n",
              "manufacturer_id                    int64\n",
              "Current_pincode_ID                 int64\n",
              "Date.of.Birth                     object\n",
              "Employment.Type                   object\n",
              "DisbursalDate                     object\n",
              "State_ID                           int64\n",
              "Employee_code_ID                   int64\n",
              "MobileNo_Avl_Flag                  int64\n",
              "Aadhar_flag                        int64\n",
              "PAN_flag                           int64\n",
              "VoterID_flag                       int64\n",
              "Driving_flag                       int64\n",
              "Passport_flag                      int64\n",
              "PERFORM_CNS.SCORE                  int64\n",
              "PERFORM_CNS.SCORE.DESCRIPTION     object\n",
              "PRI.NO.OF.ACCTS                    int64\n",
              "PRI.ACTIVE.ACCTS                   int64\n",
              "PRI.OVERDUE.ACCTS                  int64\n",
              "PRI.CURRENT.BALANCE                int64\n",
              "PRI.SANCTIONED.AMOUNT              int64\n",
              "PRI.DISBURSED.AMOUNT               int64\n",
              "NO.OF_INQUIRIES                    int64\n",
              "loan_default                       int64\n",
              "dtype: object"
            ]
          },
          "metadata": {},
          "execution_count": 14
        }
      ],
      "source": [
        "dfMain.dtypes"
      ]
    },
    {
      "cell_type": "markdown",
      "metadata": {
        "id": "K0Pklzeeq5r3"
      },
      "source": [
        "# Filtering based on Conditions:\n",
        "\n",
        "\n",
        "Datasets can be filtered using different conditions, which can be implemented using logical operators in python. For example, == (double equal to), ≤ (less than or equal to), ≥(greater than or equal to), etc."
      ]
    },
    {
      "cell_type": "code",
      "execution_count": 15,
      "metadata": {
        "colab": {
          "base_uri": "https://localhost:8080/",
          "height": 505
        },
        "id": "bq1U7V4Pq5r4",
        "outputId": "b1236fb7-9d5b-49b3-cddb-7d05b598acf6"
      },
      "outputs": [
        {
          "output_type": "execute_result",
          "data": {
            "text/plain": [
              "        UniqueID  disbursed_amount  asset_cost    ltv  branch_id  supplier_id  \\\n",
              "0         420825             50578       58400  89.55         67        22807   \n",
              "6         529269             46349       61500  76.42         67        22807   \n",
              "7         510278             43894       61900  71.89         67        22807   \n",
              "9         510980             52603       61300  86.95         67        22807   \n",
              "11        486821             64769       74190  89.23         67        22807   \n",
              "...          ...               ...         ...    ...        ...          ...   \n",
              "233148    613494             42894       60334  72.93         34        20700   \n",
              "233149    626432             63213      105405  60.72         34        20700   \n",
              "233151    613658             33484       71212  48.45         77        22186   \n",
              "233152    548084             34259       73286  49.10         77        22186   \n",
              "233153    630213             75751      116009  66.81         77        22186   \n",
              "\n",
              "        manufacturer_id  Current_pincode_ID Date.of.Birth Employment.Type  \\\n",
              "0                    45                1441      1/1/1984        Salaried   \n",
              "6                    45                1502      1/6/1988        Salaried   \n",
              "7                    45                1501     4/10/1989        Salaried   \n",
              "9                    45                1492      1/6/1968        Salaried   \n",
              "11                   45                1446      7/9/1984        Salaried   \n",
              "...                 ...                 ...           ...             ...   \n",
              "233148               48                1051      8/7/1993        Salaried   \n",
              "233149               48                1050      1/8/1988        Salaried   \n",
              "233151               86                2299      1/6/1976        Salaried   \n",
              "233152               86                2299      26-03-94        Salaried   \n",
              "233153               86                2299      18-02-84        Salaried   \n",
              "\n",
              "        ... PERFORM_CNS.SCORE  \\\n",
              "0       ...                 0   \n",
              "6       ...                 0   \n",
              "7       ...                17   \n",
              "9       ...               818   \n",
              "11      ...               786   \n",
              "...     ...               ...   \n",
              "233148  ...                 0   \n",
              "233149  ...               735   \n",
              "233151  ...                 0   \n",
              "233152  ...                 0   \n",
              "233153  ...                 0   \n",
              "\n",
              "                            PERFORM_CNS.SCORE.DESCRIPTION  PRI.NO.OF.ACCTS  \\\n",
              "0                             No Bureau History Available                0   \n",
              "6                             No Bureau History Available                0   \n",
              "7       Not Scored: Not Enough Info available on the c...                1   \n",
              "9                                         A-Very Low Risk                1   \n",
              "11                                        B-Very Low Risk                3   \n",
              "...                                                   ...              ...   \n",
              "233148                        No Bureau History Available                0   \n",
              "233149                                    D-Very Low Risk                4   \n",
              "233151                        No Bureau History Available                0   \n",
              "233152                        No Bureau History Available                0   \n",
              "233153                        No Bureau History Available                0   \n",
              "\n",
              "        PRI.ACTIVE.ACCTS  PRI.OVERDUE.ACCTS  PRI.CURRENT.BALANCE  \\\n",
              "0                      0                  0                    0   \n",
              "6                      0                  0                    0   \n",
              "7                      1                  0                72879   \n",
              "9                      0                  0                    0   \n",
              "11                     2                  0                  676   \n",
              "...                  ...                ...                  ...   \n",
              "233148                 0                  0                    0   \n",
              "233149                 3                  0               390443   \n",
              "233151                 0                  0                    0   \n",
              "233152                 0                  0                    0   \n",
              "233153                 0                  0                    0   \n",
              "\n",
              "        PRI.SANCTIONED.AMOUNT  PRI.DISBURSED.AMOUNT  NO.OF_INQUIRIES  \\\n",
              "0                           0                     0                0   \n",
              "6                           0                     0                0   \n",
              "7                       74500                 74500                0   \n",
              "9                           0                     0                0   \n",
              "11                      36154                 23374                1   \n",
              "...                       ...                   ...              ...   \n",
              "233148                      0                     0                0   \n",
              "233149                 416133                416133                0   \n",
              "233151                      0                     0                0   \n",
              "233152                      0                     0                0   \n",
              "233153                      0                     0                0   \n",
              "\n",
              "        loan_default  \n",
              "0                  0  \n",
              "6                  0  \n",
              "7                  0  \n",
              "9                  0  \n",
              "11                 0  \n",
              "...              ...  \n",
              "233148             0  \n",
              "233149             0  \n",
              "233151             0  \n",
              "233152             0  \n",
              "233153             0  \n",
              "\n",
              "[97858 rows x 29 columns]"
            ],
            "text/html": [
              "\n",
              "\n",
              "  <div id=\"df-a5151f1e-ba6e-412b-b0e6-ff45e7e5ee8d\">\n",
              "    <div class=\"colab-df-container\">\n",
              "      <div>\n",
              "<style scoped>\n",
              "    .dataframe tbody tr th:only-of-type {\n",
              "        vertical-align: middle;\n",
              "    }\n",
              "\n",
              "    .dataframe tbody tr th {\n",
              "        vertical-align: top;\n",
              "    }\n",
              "\n",
              "    .dataframe thead th {\n",
              "        text-align: right;\n",
              "    }\n",
              "</style>\n",
              "<table border=\"1\" class=\"dataframe\">\n",
              "  <thead>\n",
              "    <tr style=\"text-align: right;\">\n",
              "      <th></th>\n",
              "      <th>UniqueID</th>\n",
              "      <th>disbursed_amount</th>\n",
              "      <th>asset_cost</th>\n",
              "      <th>ltv</th>\n",
              "      <th>branch_id</th>\n",
              "      <th>supplier_id</th>\n",
              "      <th>manufacturer_id</th>\n",
              "      <th>Current_pincode_ID</th>\n",
              "      <th>Date.of.Birth</th>\n",
              "      <th>Employment.Type</th>\n",
              "      <th>...</th>\n",
              "      <th>PERFORM_CNS.SCORE</th>\n",
              "      <th>PERFORM_CNS.SCORE.DESCRIPTION</th>\n",
              "      <th>PRI.NO.OF.ACCTS</th>\n",
              "      <th>PRI.ACTIVE.ACCTS</th>\n",
              "      <th>PRI.OVERDUE.ACCTS</th>\n",
              "      <th>PRI.CURRENT.BALANCE</th>\n",
              "      <th>PRI.SANCTIONED.AMOUNT</th>\n",
              "      <th>PRI.DISBURSED.AMOUNT</th>\n",
              "      <th>NO.OF_INQUIRIES</th>\n",
              "      <th>loan_default</th>\n",
              "    </tr>\n",
              "  </thead>\n",
              "  <tbody>\n",
              "    <tr>\n",
              "      <th>0</th>\n",
              "      <td>420825</td>\n",
              "      <td>50578</td>\n",
              "      <td>58400</td>\n",
              "      <td>89.55</td>\n",
              "      <td>67</td>\n",
              "      <td>22807</td>\n",
              "      <td>45</td>\n",
              "      <td>1441</td>\n",
              "      <td>1/1/1984</td>\n",
              "      <td>Salaried</td>\n",
              "      <td>...</td>\n",
              "      <td>0</td>\n",
              "      <td>No Bureau History Available</td>\n",
              "      <td>0</td>\n",
              "      <td>0</td>\n",
              "      <td>0</td>\n",
              "      <td>0</td>\n",
              "      <td>0</td>\n",
              "      <td>0</td>\n",
              "      <td>0</td>\n",
              "      <td>0</td>\n",
              "    </tr>\n",
              "    <tr>\n",
              "      <th>6</th>\n",
              "      <td>529269</td>\n",
              "      <td>46349</td>\n",
              "      <td>61500</td>\n",
              "      <td>76.42</td>\n",
              "      <td>67</td>\n",
              "      <td>22807</td>\n",
              "      <td>45</td>\n",
              "      <td>1502</td>\n",
              "      <td>1/6/1988</td>\n",
              "      <td>Salaried</td>\n",
              "      <td>...</td>\n",
              "      <td>0</td>\n",
              "      <td>No Bureau History Available</td>\n",
              "      <td>0</td>\n",
              "      <td>0</td>\n",
              "      <td>0</td>\n",
              "      <td>0</td>\n",
              "      <td>0</td>\n",
              "      <td>0</td>\n",
              "      <td>0</td>\n",
              "      <td>0</td>\n",
              "    </tr>\n",
              "    <tr>\n",
              "      <th>7</th>\n",
              "      <td>510278</td>\n",
              "      <td>43894</td>\n",
              "      <td>61900</td>\n",
              "      <td>71.89</td>\n",
              "      <td>67</td>\n",
              "      <td>22807</td>\n",
              "      <td>45</td>\n",
              "      <td>1501</td>\n",
              "      <td>4/10/1989</td>\n",
              "      <td>Salaried</td>\n",
              "      <td>...</td>\n",
              "      <td>17</td>\n",
              "      <td>Not Scored: Not Enough Info available on the c...</td>\n",
              "      <td>1</td>\n",
              "      <td>1</td>\n",
              "      <td>0</td>\n",
              "      <td>72879</td>\n",
              "      <td>74500</td>\n",
              "      <td>74500</td>\n",
              "      <td>0</td>\n",
              "      <td>0</td>\n",
              "    </tr>\n",
              "    <tr>\n",
              "      <th>9</th>\n",
              "      <td>510980</td>\n",
              "      <td>52603</td>\n",
              "      <td>61300</td>\n",
              "      <td>86.95</td>\n",
              "      <td>67</td>\n",
              "      <td>22807</td>\n",
              "      <td>45</td>\n",
              "      <td>1492</td>\n",
              "      <td>1/6/1968</td>\n",
              "      <td>Salaried</td>\n",
              "      <td>...</td>\n",
              "      <td>818</td>\n",
              "      <td>A-Very Low Risk</td>\n",
              "      <td>1</td>\n",
              "      <td>0</td>\n",
              "      <td>0</td>\n",
              "      <td>0</td>\n",
              "      <td>0</td>\n",
              "      <td>0</td>\n",
              "      <td>0</td>\n",
              "      <td>0</td>\n",
              "    </tr>\n",
              "    <tr>\n",
              "      <th>11</th>\n",
              "      <td>486821</td>\n",
              "      <td>64769</td>\n",
              "      <td>74190</td>\n",
              "      <td>89.23</td>\n",
              "      <td>67</td>\n",
              "      <td>22807</td>\n",
              "      <td>45</td>\n",
              "      <td>1446</td>\n",
              "      <td>7/9/1984</td>\n",
              "      <td>Salaried</td>\n",
              "      <td>...</td>\n",
              "      <td>786</td>\n",
              "      <td>B-Very Low Risk</td>\n",
              "      <td>3</td>\n",
              "      <td>2</td>\n",
              "      <td>0</td>\n",
              "      <td>676</td>\n",
              "      <td>36154</td>\n",
              "      <td>23374</td>\n",
              "      <td>1</td>\n",
              "      <td>0</td>\n",
              "    </tr>\n",
              "    <tr>\n",
              "      <th>...</th>\n",
              "      <td>...</td>\n",
              "      <td>...</td>\n",
              "      <td>...</td>\n",
              "      <td>...</td>\n",
              "      <td>...</td>\n",
              "      <td>...</td>\n",
              "      <td>...</td>\n",
              "      <td>...</td>\n",
              "      <td>...</td>\n",
              "      <td>...</td>\n",
              "      <td>...</td>\n",
              "      <td>...</td>\n",
              "      <td>...</td>\n",
              "      <td>...</td>\n",
              "      <td>...</td>\n",
              "      <td>...</td>\n",
              "      <td>...</td>\n",
              "      <td>...</td>\n",
              "      <td>...</td>\n",
              "      <td>...</td>\n",
              "      <td>...</td>\n",
              "    </tr>\n",
              "    <tr>\n",
              "      <th>233148</th>\n",
              "      <td>613494</td>\n",
              "      <td>42894</td>\n",
              "      <td>60334</td>\n",
              "      <td>72.93</td>\n",
              "      <td>34</td>\n",
              "      <td>20700</td>\n",
              "      <td>48</td>\n",
              "      <td>1051</td>\n",
              "      <td>8/7/1993</td>\n",
              "      <td>Salaried</td>\n",
              "      <td>...</td>\n",
              "      <td>0</td>\n",
              "      <td>No Bureau History Available</td>\n",
              "      <td>0</td>\n",
              "      <td>0</td>\n",
              "      <td>0</td>\n",
              "      <td>0</td>\n",
              "      <td>0</td>\n",
              "      <td>0</td>\n",
              "      <td>0</td>\n",
              "      <td>0</td>\n",
              "    </tr>\n",
              "    <tr>\n",
              "      <th>233149</th>\n",
              "      <td>626432</td>\n",
              "      <td>63213</td>\n",
              "      <td>105405</td>\n",
              "      <td>60.72</td>\n",
              "      <td>34</td>\n",
              "      <td>20700</td>\n",
              "      <td>48</td>\n",
              "      <td>1050</td>\n",
              "      <td>1/8/1988</td>\n",
              "      <td>Salaried</td>\n",
              "      <td>...</td>\n",
              "      <td>735</td>\n",
              "      <td>D-Very Low Risk</td>\n",
              "      <td>4</td>\n",
              "      <td>3</td>\n",
              "      <td>0</td>\n",
              "      <td>390443</td>\n",
              "      <td>416133</td>\n",
              "      <td>416133</td>\n",
              "      <td>0</td>\n",
              "      <td>0</td>\n",
              "    </tr>\n",
              "    <tr>\n",
              "      <th>233151</th>\n",
              "      <td>613658</td>\n",
              "      <td>33484</td>\n",
              "      <td>71212</td>\n",
              "      <td>48.45</td>\n",
              "      <td>77</td>\n",
              "      <td>22186</td>\n",
              "      <td>86</td>\n",
              "      <td>2299</td>\n",
              "      <td>1/6/1976</td>\n",
              "      <td>Salaried</td>\n",
              "      <td>...</td>\n",
              "      <td>0</td>\n",
              "      <td>No Bureau History Available</td>\n",
              "      <td>0</td>\n",
              "      <td>0</td>\n",
              "      <td>0</td>\n",
              "      <td>0</td>\n",
              "      <td>0</td>\n",
              "      <td>0</td>\n",
              "      <td>0</td>\n",
              "      <td>0</td>\n",
              "    </tr>\n",
              "    <tr>\n",
              "      <th>233152</th>\n",
              "      <td>548084</td>\n",
              "      <td>34259</td>\n",
              "      <td>73286</td>\n",
              "      <td>49.10</td>\n",
              "      <td>77</td>\n",
              "      <td>22186</td>\n",
              "      <td>86</td>\n",
              "      <td>2299</td>\n",
              "      <td>26-03-94</td>\n",
              "      <td>Salaried</td>\n",
              "      <td>...</td>\n",
              "      <td>0</td>\n",
              "      <td>No Bureau History Available</td>\n",
              "      <td>0</td>\n",
              "      <td>0</td>\n",
              "      <td>0</td>\n",
              "      <td>0</td>\n",
              "      <td>0</td>\n",
              "      <td>0</td>\n",
              "      <td>0</td>\n",
              "      <td>0</td>\n",
              "    </tr>\n",
              "    <tr>\n",
              "      <th>233153</th>\n",
              "      <td>630213</td>\n",
              "      <td>75751</td>\n",
              "      <td>116009</td>\n",
              "      <td>66.81</td>\n",
              "      <td>77</td>\n",
              "      <td>22186</td>\n",
              "      <td>86</td>\n",
              "      <td>2299</td>\n",
              "      <td>18-02-84</td>\n",
              "      <td>Salaried</td>\n",
              "      <td>...</td>\n",
              "      <td>0</td>\n",
              "      <td>No Bureau History Available</td>\n",
              "      <td>0</td>\n",
              "      <td>0</td>\n",
              "      <td>0</td>\n",
              "      <td>0</td>\n",
              "      <td>0</td>\n",
              "      <td>0</td>\n",
              "      <td>0</td>\n",
              "      <td>0</td>\n",
              "    </tr>\n",
              "  </tbody>\n",
              "</table>\n",
              "<p>97858 rows × 29 columns</p>\n",
              "</div>\n",
              "      <button class=\"colab-df-convert\" onclick=\"convertToInteractive('df-a5151f1e-ba6e-412b-b0e6-ff45e7e5ee8d')\"\n",
              "              title=\"Convert this dataframe to an interactive table.\"\n",
              "              style=\"display:none;\">\n",
              "\n",
              "  <svg xmlns=\"http://www.w3.org/2000/svg\" height=\"24px\"viewBox=\"0 0 24 24\"\n",
              "       width=\"24px\">\n",
              "    <path d=\"M0 0h24v24H0V0z\" fill=\"none\"/>\n",
              "    <path d=\"M18.56 5.44l.94 2.06.94-2.06 2.06-.94-2.06-.94-.94-2.06-.94 2.06-2.06.94zm-11 1L8.5 8.5l.94-2.06 2.06-.94-2.06-.94L8.5 2.5l-.94 2.06-2.06.94zm10 10l.94 2.06.94-2.06 2.06-.94-2.06-.94-.94-2.06-.94 2.06-2.06.94z\"/><path d=\"M17.41 7.96l-1.37-1.37c-.4-.4-.92-.59-1.43-.59-.52 0-1.04.2-1.43.59L10.3 9.45l-7.72 7.72c-.78.78-.78 2.05 0 2.83L4 21.41c.39.39.9.59 1.41.59.51 0 1.02-.2 1.41-.59l7.78-7.78 2.81-2.81c.8-.78.8-2.07 0-2.86zM5.41 20L4 18.59l7.72-7.72 1.47 1.35L5.41 20z\"/>\n",
              "  </svg>\n",
              "      </button>\n",
              "\n",
              "\n",
              "\n",
              "    <div id=\"df-72884f65-bdab-4e8e-b556-64b7c25d5220\">\n",
              "      <button class=\"colab-df-quickchart\" onclick=\"quickchart('df-72884f65-bdab-4e8e-b556-64b7c25d5220')\"\n",
              "              title=\"Suggest charts.\"\n",
              "              style=\"display:none;\">\n",
              "\n",
              "<svg xmlns=\"http://www.w3.org/2000/svg\" height=\"24px\"viewBox=\"0 0 24 24\"\n",
              "     width=\"24px\">\n",
              "    <g>\n",
              "        <path d=\"M19 3H5c-1.1 0-2 .9-2 2v14c0 1.1.9 2 2 2h14c1.1 0 2-.9 2-2V5c0-1.1-.9-2-2-2zM9 17H7v-7h2v7zm4 0h-2V7h2v10zm4 0h-2v-4h2v4z\"/>\n",
              "    </g>\n",
              "</svg>\n",
              "      </button>\n",
              "    </div>\n",
              "\n",
              "<style>\n",
              "  .colab-df-quickchart {\n",
              "    background-color: #E8F0FE;\n",
              "    border: none;\n",
              "    border-radius: 50%;\n",
              "    cursor: pointer;\n",
              "    display: none;\n",
              "    fill: #1967D2;\n",
              "    height: 32px;\n",
              "    padding: 0 0 0 0;\n",
              "    width: 32px;\n",
              "  }\n",
              "\n",
              "  .colab-df-quickchart:hover {\n",
              "    background-color: #E2EBFA;\n",
              "    box-shadow: 0px 1px 2px rgba(60, 64, 67, 0.3), 0px 1px 3px 1px rgba(60, 64, 67, 0.15);\n",
              "    fill: #174EA6;\n",
              "  }\n",
              "\n",
              "  [theme=dark] .colab-df-quickchart {\n",
              "    background-color: #3B4455;\n",
              "    fill: #D2E3FC;\n",
              "  }\n",
              "\n",
              "  [theme=dark] .colab-df-quickchart:hover {\n",
              "    background-color: #434B5C;\n",
              "    box-shadow: 0px 1px 3px 1px rgba(0, 0, 0, 0.15);\n",
              "    filter: drop-shadow(0px 1px 2px rgba(0, 0, 0, 0.3));\n",
              "    fill: #FFFFFF;\n",
              "  }\n",
              "</style>\n",
              "\n",
              "    <script>\n",
              "      async function quickchart(key) {\n",
              "        const containerElement = document.querySelector('#' + key);\n",
              "        const charts = await google.colab.kernel.invokeFunction(\n",
              "            'suggestCharts', [key], {});\n",
              "      }\n",
              "    </script>\n",
              "\n",
              "      <script>\n",
              "\n",
              "function displayQuickchartButton(domScope) {\n",
              "  let quickchartButtonEl =\n",
              "    domScope.querySelector('#df-72884f65-bdab-4e8e-b556-64b7c25d5220 button.colab-df-quickchart');\n",
              "  quickchartButtonEl.style.display =\n",
              "    google.colab.kernel.accessAllowed ? 'block' : 'none';\n",
              "}\n",
              "\n",
              "        displayQuickchartButton(document);\n",
              "      </script>\n",
              "      <style>\n",
              "    .colab-df-container {\n",
              "      display:flex;\n",
              "      flex-wrap:wrap;\n",
              "      gap: 12px;\n",
              "    }\n",
              "\n",
              "    .colab-df-convert {\n",
              "      background-color: #E8F0FE;\n",
              "      border: none;\n",
              "      border-radius: 50%;\n",
              "      cursor: pointer;\n",
              "      display: none;\n",
              "      fill: #1967D2;\n",
              "      height: 32px;\n",
              "      padding: 0 0 0 0;\n",
              "      width: 32px;\n",
              "    }\n",
              "\n",
              "    .colab-df-convert:hover {\n",
              "      background-color: #E2EBFA;\n",
              "      box-shadow: 0px 1px 2px rgba(60, 64, 67, 0.3), 0px 1px 3px 1px rgba(60, 64, 67, 0.15);\n",
              "      fill: #174EA6;\n",
              "    }\n",
              "\n",
              "    [theme=dark] .colab-df-convert {\n",
              "      background-color: #3B4455;\n",
              "      fill: #D2E3FC;\n",
              "    }\n",
              "\n",
              "    [theme=dark] .colab-df-convert:hover {\n",
              "      background-color: #434B5C;\n",
              "      box-shadow: 0px 1px 3px 1px rgba(0, 0, 0, 0.15);\n",
              "      filter: drop-shadow(0px 1px 2px rgba(0, 0, 0, 0.3));\n",
              "      fill: #FFFFFF;\n",
              "    }\n",
              "  </style>\n",
              "\n",
              "      <script>\n",
              "        const buttonEl =\n",
              "          document.querySelector('#df-a5151f1e-ba6e-412b-b0e6-ff45e7e5ee8d button.colab-df-convert');\n",
              "        buttonEl.style.display =\n",
              "          google.colab.kernel.accessAllowed ? 'block' : 'none';\n",
              "\n",
              "        async function convertToInteractive(key) {\n",
              "          const element = document.querySelector('#df-a5151f1e-ba6e-412b-b0e6-ff45e7e5ee8d');\n",
              "          const dataTable =\n",
              "            await google.colab.kernel.invokeFunction('convertToInteractive',\n",
              "                                                     [key], {});\n",
              "          if (!dataTable) return;\n",
              "\n",
              "          const docLinkHtml = 'Like what you see? Visit the ' +\n",
              "            '<a target=\"_blank\" href=https://colab.research.google.com/notebooks/data_table.ipynb>data table notebook</a>'\n",
              "            + ' to learn more about interactive tables.';\n",
              "          element.innerHTML = '';\n",
              "          dataTable['output_type'] = 'display_data';\n",
              "          await google.colab.output.renderOutput(dataTable, element);\n",
              "          const docLink = document.createElement('div');\n",
              "          docLink.innerHTML = docLinkHtml;\n",
              "          element.appendChild(docLink);\n",
              "        }\n",
              "      </script>\n",
              "    </div>\n",
              "  </div>\n"
            ]
          },
          "metadata": {},
          "execution_count": 15
        }
      ],
      "source": [
        "dfMain[(dfMain['Employment.Type'] == \"Salaried\")]"
      ]
    },
    {
      "cell_type": "code",
      "execution_count": 16,
      "metadata": {
        "colab": {
          "base_uri": "https://localhost:8080/",
          "height": 505
        },
        "id": "-D4MFbszq5r4",
        "outputId": "5ac571db-8659-4b98-af73-71d54a2750e1"
      },
      "outputs": [
        {
          "output_type": "execute_result",
          "data": {
            "text/plain": [
              "        UniqueID  disbursed_amount  asset_cost    ltv  branch_id  supplier_id  \\\n",
              "192434    620818             58259       77933  76.99        100        18731   \n",
              "192436    433804             56259       65761  88.20        100        18731   \n",
              "192437    648534             59213       68817  88.64        100        20571   \n",
              "192439    627548             74079      103777  73.23        100        21335   \n",
              "192445    530872             61213       75321  83.64        100        24273   \n",
              "...          ...               ...         ...    ...        ...          ...   \n",
              "227668    645514             70123       96795  73.35        100        21335   \n",
              "227670    585715             59259       74652  80.37        100        24273   \n",
              "229687    637911             26681       66032  40.89        100        24273   \n",
              "229689    647168             71123       96418  74.67        100        24273   \n",
              "230511    634676             46349       68817  69.75        100        20571   \n",
              "\n",
              "        manufacturer_id  Current_pincode_ID Date.of.Birth Employment.Type  \\\n",
              "192434               86                 644      15-02-68        Salaried   \n",
              "192436               86                 631      1/1/1984        Salaried   \n",
              "192437               86                 638     10/8/1984        Salaried   \n",
              "192439               51                 656      5/6/1988        Salaried   \n",
              "192445               86                 650     10/8/1969        Salaried   \n",
              "...                 ...                 ...           ...             ...   \n",
              "227668               51                 652      15-10-96        Salaried   \n",
              "227670               86                 657     1/10/1981        Salaried   \n",
              "229687               86                 646      1/7/1971        Salaried   \n",
              "229689               86                 668      25-09-88        Salaried   \n",
              "230511               86                 629      1/7/1987        Salaried   \n",
              "\n",
              "        ... PERFORM_CNS.SCORE  \\\n",
              "192434  ...               710   \n",
              "192436  ...                 0   \n",
              "192437  ...               673   \n",
              "192439  ...                 0   \n",
              "192445  ...               752   \n",
              "...     ...               ...   \n",
              "227668  ...                17   \n",
              "227670  ...                 0   \n",
              "229687  ...                 0   \n",
              "229689  ...               721   \n",
              "230511  ...                 0   \n",
              "\n",
              "                            PERFORM_CNS.SCORE.DESCRIPTION  PRI.NO.OF.ACCTS  \\\n",
              "192434                                    D-Very Low Risk                2   \n",
              "192436                        No Bureau History Available                0   \n",
              "192437                                         F-Low Risk                6   \n",
              "192439                        No Bureau History Available                0   \n",
              "192445                                    C-Very Low Risk                3   \n",
              "...                                                   ...              ...   \n",
              "227668  Not Scored: Not Enough Info available on the c...                1   \n",
              "227670                        No Bureau History Available                0   \n",
              "229687                        No Bureau History Available                0   \n",
              "229689                                    D-Very Low Risk                5   \n",
              "230511                        No Bureau History Available                0   \n",
              "\n",
              "        PRI.ACTIVE.ACCTS  PRI.OVERDUE.ACCTS  PRI.CURRENT.BALANCE  \\\n",
              "192434                 1                  0               556026   \n",
              "192436                 0                  0                    0   \n",
              "192437                 1                  0                  -52   \n",
              "192439                 0                  0                    0   \n",
              "192445                 2                  0              1644411   \n",
              "...                  ...                ...                  ...   \n",
              "227668                 1                  0                17500   \n",
              "227670                 0                  0                    0   \n",
              "229687                 0                  0                    0   \n",
              "229689                 2                  0                13302   \n",
              "230511                 0                  0                    0   \n",
              "\n",
              "        PRI.SANCTIONED.AMOUNT  PRI.DISBURSED.AMOUNT  NO.OF_INQUIRIES  \\\n",
              "192434                 556026                556026                0   \n",
              "192436                      0                     0                0   \n",
              "192437                  50000                 21105                0   \n",
              "192439                      0                     0                0   \n",
              "192445                1678000               1678000                0   \n",
              "...                       ...                   ...              ...   \n",
              "227668                  21000                 21000                0   \n",
              "227670                      0                     0                0   \n",
              "229687                      0                     0                0   \n",
              "229689                  75089                 75089                1   \n",
              "230511                      0                     0                0   \n",
              "\n",
              "        loan_default  \n",
              "192434             0  \n",
              "192436             0  \n",
              "192437             0  \n",
              "192439             0  \n",
              "192445             0  \n",
              "...              ...  \n",
              "227668             0  \n",
              "227670             0  \n",
              "229687             0  \n",
              "229689             0  \n",
              "230511             0  \n",
              "\n",
              "[96 rows x 29 columns]"
            ],
            "text/html": [
              "\n",
              "\n",
              "  <div id=\"df-311a97ef-40a5-4287-99e3-42e6aa833be6\">\n",
              "    <div class=\"colab-df-container\">\n",
              "      <div>\n",
              "<style scoped>\n",
              "    .dataframe tbody tr th:only-of-type {\n",
              "        vertical-align: middle;\n",
              "    }\n",
              "\n",
              "    .dataframe tbody tr th {\n",
              "        vertical-align: top;\n",
              "    }\n",
              "\n",
              "    .dataframe thead th {\n",
              "        text-align: right;\n",
              "    }\n",
              "</style>\n",
              "<table border=\"1\" class=\"dataframe\">\n",
              "  <thead>\n",
              "    <tr style=\"text-align: right;\">\n",
              "      <th></th>\n",
              "      <th>UniqueID</th>\n",
              "      <th>disbursed_amount</th>\n",
              "      <th>asset_cost</th>\n",
              "      <th>ltv</th>\n",
              "      <th>branch_id</th>\n",
              "      <th>supplier_id</th>\n",
              "      <th>manufacturer_id</th>\n",
              "      <th>Current_pincode_ID</th>\n",
              "      <th>Date.of.Birth</th>\n",
              "      <th>Employment.Type</th>\n",
              "      <th>...</th>\n",
              "      <th>PERFORM_CNS.SCORE</th>\n",
              "      <th>PERFORM_CNS.SCORE.DESCRIPTION</th>\n",
              "      <th>PRI.NO.OF.ACCTS</th>\n",
              "      <th>PRI.ACTIVE.ACCTS</th>\n",
              "      <th>PRI.OVERDUE.ACCTS</th>\n",
              "      <th>PRI.CURRENT.BALANCE</th>\n",
              "      <th>PRI.SANCTIONED.AMOUNT</th>\n",
              "      <th>PRI.DISBURSED.AMOUNT</th>\n",
              "      <th>NO.OF_INQUIRIES</th>\n",
              "      <th>loan_default</th>\n",
              "    </tr>\n",
              "  </thead>\n",
              "  <tbody>\n",
              "    <tr>\n",
              "      <th>192434</th>\n",
              "      <td>620818</td>\n",
              "      <td>58259</td>\n",
              "      <td>77933</td>\n",
              "      <td>76.99</td>\n",
              "      <td>100</td>\n",
              "      <td>18731</td>\n",
              "      <td>86</td>\n",
              "      <td>644</td>\n",
              "      <td>15-02-68</td>\n",
              "      <td>Salaried</td>\n",
              "      <td>...</td>\n",
              "      <td>710</td>\n",
              "      <td>D-Very Low Risk</td>\n",
              "      <td>2</td>\n",
              "      <td>1</td>\n",
              "      <td>0</td>\n",
              "      <td>556026</td>\n",
              "      <td>556026</td>\n",
              "      <td>556026</td>\n",
              "      <td>0</td>\n",
              "      <td>0</td>\n",
              "    </tr>\n",
              "    <tr>\n",
              "      <th>192436</th>\n",
              "      <td>433804</td>\n",
              "      <td>56259</td>\n",
              "      <td>65761</td>\n",
              "      <td>88.20</td>\n",
              "      <td>100</td>\n",
              "      <td>18731</td>\n",
              "      <td>86</td>\n",
              "      <td>631</td>\n",
              "      <td>1/1/1984</td>\n",
              "      <td>Salaried</td>\n",
              "      <td>...</td>\n",
              "      <td>0</td>\n",
              "      <td>No Bureau History Available</td>\n",
              "      <td>0</td>\n",
              "      <td>0</td>\n",
              "      <td>0</td>\n",
              "      <td>0</td>\n",
              "      <td>0</td>\n",
              "      <td>0</td>\n",
              "      <td>0</td>\n",
              "      <td>0</td>\n",
              "    </tr>\n",
              "    <tr>\n",
              "      <th>192437</th>\n",
              "      <td>648534</td>\n",
              "      <td>59213</td>\n",
              "      <td>68817</td>\n",
              "      <td>88.64</td>\n",
              "      <td>100</td>\n",
              "      <td>20571</td>\n",
              "      <td>86</td>\n",
              "      <td>638</td>\n",
              "      <td>10/8/1984</td>\n",
              "      <td>Salaried</td>\n",
              "      <td>...</td>\n",
              "      <td>673</td>\n",
              "      <td>F-Low Risk</td>\n",
              "      <td>6</td>\n",
              "      <td>1</td>\n",
              "      <td>0</td>\n",
              "      <td>-52</td>\n",
              "      <td>50000</td>\n",
              "      <td>21105</td>\n",
              "      <td>0</td>\n",
              "      <td>0</td>\n",
              "    </tr>\n",
              "    <tr>\n",
              "      <th>192439</th>\n",
              "      <td>627548</td>\n",
              "      <td>74079</td>\n",
              "      <td>103777</td>\n",
              "      <td>73.23</td>\n",
              "      <td>100</td>\n",
              "      <td>21335</td>\n",
              "      <td>51</td>\n",
              "      <td>656</td>\n",
              "      <td>5/6/1988</td>\n",
              "      <td>Salaried</td>\n",
              "      <td>...</td>\n",
              "      <td>0</td>\n",
              "      <td>No Bureau History Available</td>\n",
              "      <td>0</td>\n",
              "      <td>0</td>\n",
              "      <td>0</td>\n",
              "      <td>0</td>\n",
              "      <td>0</td>\n",
              "      <td>0</td>\n",
              "      <td>0</td>\n",
              "      <td>0</td>\n",
              "    </tr>\n",
              "    <tr>\n",
              "      <th>192445</th>\n",
              "      <td>530872</td>\n",
              "      <td>61213</td>\n",
              "      <td>75321</td>\n",
              "      <td>83.64</td>\n",
              "      <td>100</td>\n",
              "      <td>24273</td>\n",
              "      <td>86</td>\n",
              "      <td>650</td>\n",
              "      <td>10/8/1969</td>\n",
              "      <td>Salaried</td>\n",
              "      <td>...</td>\n",
              "      <td>752</td>\n",
              "      <td>C-Very Low Risk</td>\n",
              "      <td>3</td>\n",
              "      <td>2</td>\n",
              "      <td>0</td>\n",
              "      <td>1644411</td>\n",
              "      <td>1678000</td>\n",
              "      <td>1678000</td>\n",
              "      <td>0</td>\n",
              "      <td>0</td>\n",
              "    </tr>\n",
              "    <tr>\n",
              "      <th>...</th>\n",
              "      <td>...</td>\n",
              "      <td>...</td>\n",
              "      <td>...</td>\n",
              "      <td>...</td>\n",
              "      <td>...</td>\n",
              "      <td>...</td>\n",
              "      <td>...</td>\n",
              "      <td>...</td>\n",
              "      <td>...</td>\n",
              "      <td>...</td>\n",
              "      <td>...</td>\n",
              "      <td>...</td>\n",
              "      <td>...</td>\n",
              "      <td>...</td>\n",
              "      <td>...</td>\n",
              "      <td>...</td>\n",
              "      <td>...</td>\n",
              "      <td>...</td>\n",
              "      <td>...</td>\n",
              "      <td>...</td>\n",
              "      <td>...</td>\n",
              "    </tr>\n",
              "    <tr>\n",
              "      <th>227668</th>\n",
              "      <td>645514</td>\n",
              "      <td>70123</td>\n",
              "      <td>96795</td>\n",
              "      <td>73.35</td>\n",
              "      <td>100</td>\n",
              "      <td>21335</td>\n",
              "      <td>51</td>\n",
              "      <td>652</td>\n",
              "      <td>15-10-96</td>\n",
              "      <td>Salaried</td>\n",
              "      <td>...</td>\n",
              "      <td>17</td>\n",
              "      <td>Not Scored: Not Enough Info available on the c...</td>\n",
              "      <td>1</td>\n",
              "      <td>1</td>\n",
              "      <td>0</td>\n",
              "      <td>17500</td>\n",
              "      <td>21000</td>\n",
              "      <td>21000</td>\n",
              "      <td>0</td>\n",
              "      <td>0</td>\n",
              "    </tr>\n",
              "    <tr>\n",
              "      <th>227670</th>\n",
              "      <td>585715</td>\n",
              "      <td>59259</td>\n",
              "      <td>74652</td>\n",
              "      <td>80.37</td>\n",
              "      <td>100</td>\n",
              "      <td>24273</td>\n",
              "      <td>86</td>\n",
              "      <td>657</td>\n",
              "      <td>1/10/1981</td>\n",
              "      <td>Salaried</td>\n",
              "      <td>...</td>\n",
              "      <td>0</td>\n",
              "      <td>No Bureau History Available</td>\n",
              "      <td>0</td>\n",
              "      <td>0</td>\n",
              "      <td>0</td>\n",
              "      <td>0</td>\n",
              "      <td>0</td>\n",
              "      <td>0</td>\n",
              "      <td>0</td>\n",
              "      <td>0</td>\n",
              "    </tr>\n",
              "    <tr>\n",
              "      <th>229687</th>\n",
              "      <td>637911</td>\n",
              "      <td>26681</td>\n",
              "      <td>66032</td>\n",
              "      <td>40.89</td>\n",
              "      <td>100</td>\n",
              "      <td>24273</td>\n",
              "      <td>86</td>\n",
              "      <td>646</td>\n",
              "      <td>1/7/1971</td>\n",
              "      <td>Salaried</td>\n",
              "      <td>...</td>\n",
              "      <td>0</td>\n",
              "      <td>No Bureau History Available</td>\n",
              "      <td>0</td>\n",
              "      <td>0</td>\n",
              "      <td>0</td>\n",
              "      <td>0</td>\n",
              "      <td>0</td>\n",
              "      <td>0</td>\n",
              "      <td>0</td>\n",
              "      <td>0</td>\n",
              "    </tr>\n",
              "    <tr>\n",
              "      <th>229689</th>\n",
              "      <td>647168</td>\n",
              "      <td>71123</td>\n",
              "      <td>96418</td>\n",
              "      <td>74.67</td>\n",
              "      <td>100</td>\n",
              "      <td>24273</td>\n",
              "      <td>86</td>\n",
              "      <td>668</td>\n",
              "      <td>25-09-88</td>\n",
              "      <td>Salaried</td>\n",
              "      <td>...</td>\n",
              "      <td>721</td>\n",
              "      <td>D-Very Low Risk</td>\n",
              "      <td>5</td>\n",
              "      <td>2</td>\n",
              "      <td>0</td>\n",
              "      <td>13302</td>\n",
              "      <td>75089</td>\n",
              "      <td>75089</td>\n",
              "      <td>1</td>\n",
              "      <td>0</td>\n",
              "    </tr>\n",
              "    <tr>\n",
              "      <th>230511</th>\n",
              "      <td>634676</td>\n",
              "      <td>46349</td>\n",
              "      <td>68817</td>\n",
              "      <td>69.75</td>\n",
              "      <td>100</td>\n",
              "      <td>20571</td>\n",
              "      <td>86</td>\n",
              "      <td>629</td>\n",
              "      <td>1/7/1987</td>\n",
              "      <td>Salaried</td>\n",
              "      <td>...</td>\n",
              "      <td>0</td>\n",
              "      <td>No Bureau History Available</td>\n",
              "      <td>0</td>\n",
              "      <td>0</td>\n",
              "      <td>0</td>\n",
              "      <td>0</td>\n",
              "      <td>0</td>\n",
              "      <td>0</td>\n",
              "      <td>0</td>\n",
              "      <td>0</td>\n",
              "    </tr>\n",
              "  </tbody>\n",
              "</table>\n",
              "<p>96 rows × 29 columns</p>\n",
              "</div>\n",
              "      <button class=\"colab-df-convert\" onclick=\"convertToInteractive('df-311a97ef-40a5-4287-99e3-42e6aa833be6')\"\n",
              "              title=\"Convert this dataframe to an interactive table.\"\n",
              "              style=\"display:none;\">\n",
              "\n",
              "  <svg xmlns=\"http://www.w3.org/2000/svg\" height=\"24px\"viewBox=\"0 0 24 24\"\n",
              "       width=\"24px\">\n",
              "    <path d=\"M0 0h24v24H0V0z\" fill=\"none\"/>\n",
              "    <path d=\"M18.56 5.44l.94 2.06.94-2.06 2.06-.94-2.06-.94-.94-2.06-.94 2.06-2.06.94zm-11 1L8.5 8.5l.94-2.06 2.06-.94-2.06-.94L8.5 2.5l-.94 2.06-2.06.94zm10 10l.94 2.06.94-2.06 2.06-.94-2.06-.94-.94-2.06-.94 2.06-2.06.94z\"/><path d=\"M17.41 7.96l-1.37-1.37c-.4-.4-.92-.59-1.43-.59-.52 0-1.04.2-1.43.59L10.3 9.45l-7.72 7.72c-.78.78-.78 2.05 0 2.83L4 21.41c.39.39.9.59 1.41.59.51 0 1.02-.2 1.41-.59l7.78-7.78 2.81-2.81c.8-.78.8-2.07 0-2.86zM5.41 20L4 18.59l7.72-7.72 1.47 1.35L5.41 20z\"/>\n",
              "  </svg>\n",
              "      </button>\n",
              "\n",
              "\n",
              "\n",
              "    <div id=\"df-e899b9fd-4628-4b84-aa24-bba7588a3dc8\">\n",
              "      <button class=\"colab-df-quickchart\" onclick=\"quickchart('df-e899b9fd-4628-4b84-aa24-bba7588a3dc8')\"\n",
              "              title=\"Suggest charts.\"\n",
              "              style=\"display:none;\">\n",
              "\n",
              "<svg xmlns=\"http://www.w3.org/2000/svg\" height=\"24px\"viewBox=\"0 0 24 24\"\n",
              "     width=\"24px\">\n",
              "    <g>\n",
              "        <path d=\"M19 3H5c-1.1 0-2 .9-2 2v14c0 1.1.9 2 2 2h14c1.1 0 2-.9 2-2V5c0-1.1-.9-2-2-2zM9 17H7v-7h2v7zm4 0h-2V7h2v10zm4 0h-2v-4h2v4z\"/>\n",
              "    </g>\n",
              "</svg>\n",
              "      </button>\n",
              "    </div>\n",
              "\n",
              "<style>\n",
              "  .colab-df-quickchart {\n",
              "    background-color: #E8F0FE;\n",
              "    border: none;\n",
              "    border-radius: 50%;\n",
              "    cursor: pointer;\n",
              "    display: none;\n",
              "    fill: #1967D2;\n",
              "    height: 32px;\n",
              "    padding: 0 0 0 0;\n",
              "    width: 32px;\n",
              "  }\n",
              "\n",
              "  .colab-df-quickchart:hover {\n",
              "    background-color: #E2EBFA;\n",
              "    box-shadow: 0px 1px 2px rgba(60, 64, 67, 0.3), 0px 1px 3px 1px rgba(60, 64, 67, 0.15);\n",
              "    fill: #174EA6;\n",
              "  }\n",
              "\n",
              "  [theme=dark] .colab-df-quickchart {\n",
              "    background-color: #3B4455;\n",
              "    fill: #D2E3FC;\n",
              "  }\n",
              "\n",
              "  [theme=dark] .colab-df-quickchart:hover {\n",
              "    background-color: #434B5C;\n",
              "    box-shadow: 0px 1px 3px 1px rgba(0, 0, 0, 0.15);\n",
              "    filter: drop-shadow(0px 1px 2px rgba(0, 0, 0, 0.3));\n",
              "    fill: #FFFFFF;\n",
              "  }\n",
              "</style>\n",
              "\n",
              "    <script>\n",
              "      async function quickchart(key) {\n",
              "        const containerElement = document.querySelector('#' + key);\n",
              "        const charts = await google.colab.kernel.invokeFunction(\n",
              "            'suggestCharts', [key], {});\n",
              "      }\n",
              "    </script>\n",
              "\n",
              "      <script>\n",
              "\n",
              "function displayQuickchartButton(domScope) {\n",
              "  let quickchartButtonEl =\n",
              "    domScope.querySelector('#df-e899b9fd-4628-4b84-aa24-bba7588a3dc8 button.colab-df-quickchart');\n",
              "  quickchartButtonEl.style.display =\n",
              "    google.colab.kernel.accessAllowed ? 'block' : 'none';\n",
              "}\n",
              "\n",
              "        displayQuickchartButton(document);\n",
              "      </script>\n",
              "      <style>\n",
              "    .colab-df-container {\n",
              "      display:flex;\n",
              "      flex-wrap:wrap;\n",
              "      gap: 12px;\n",
              "    }\n",
              "\n",
              "    .colab-df-convert {\n",
              "      background-color: #E8F0FE;\n",
              "      border: none;\n",
              "      border-radius: 50%;\n",
              "      cursor: pointer;\n",
              "      display: none;\n",
              "      fill: #1967D2;\n",
              "      height: 32px;\n",
              "      padding: 0 0 0 0;\n",
              "      width: 32px;\n",
              "    }\n",
              "\n",
              "    .colab-df-convert:hover {\n",
              "      background-color: #E2EBFA;\n",
              "      box-shadow: 0px 1px 2px rgba(60, 64, 67, 0.3), 0px 1px 3px 1px rgba(60, 64, 67, 0.15);\n",
              "      fill: #174EA6;\n",
              "    }\n",
              "\n",
              "    [theme=dark] .colab-df-convert {\n",
              "      background-color: #3B4455;\n",
              "      fill: #D2E3FC;\n",
              "    }\n",
              "\n",
              "    [theme=dark] .colab-df-convert:hover {\n",
              "      background-color: #434B5C;\n",
              "      box-shadow: 0px 1px 3px 1px rgba(0, 0, 0, 0.15);\n",
              "      filter: drop-shadow(0px 1px 2px rgba(0, 0, 0, 0.3));\n",
              "      fill: #FFFFFF;\n",
              "    }\n",
              "  </style>\n",
              "\n",
              "      <script>\n",
              "        const buttonEl =\n",
              "          document.querySelector('#df-311a97ef-40a5-4287-99e3-42e6aa833be6 button.colab-df-convert');\n",
              "        buttonEl.style.display =\n",
              "          google.colab.kernel.accessAllowed ? 'block' : 'none';\n",
              "\n",
              "        async function convertToInteractive(key) {\n",
              "          const element = document.querySelector('#df-311a97ef-40a5-4287-99e3-42e6aa833be6');\n",
              "          const dataTable =\n",
              "            await google.colab.kernel.invokeFunction('convertToInteractive',\n",
              "                                                     [key], {});\n",
              "          if (!dataTable) return;\n",
              "\n",
              "          const docLinkHtml = 'Like what you see? Visit the ' +\n",
              "            '<a target=\"_blank\" href=https://colab.research.google.com/notebooks/data_table.ipynb>data table notebook</a>'\n",
              "            + ' to learn more about interactive tables.';\n",
              "          element.innerHTML = '';\n",
              "          dataTable['output_type'] = 'display_data';\n",
              "          await google.colab.output.renderOutput(dataTable, element);\n",
              "          const docLink = document.createElement('div');\n",
              "          docLink.innerHTML = docLinkHtml;\n",
              "          element.appendChild(docLink);\n",
              "        }\n",
              "      </script>\n",
              "    </div>\n",
              "  </div>\n"
            ]
          },
          "metadata": {},
          "execution_count": 16
        }
      ],
      "source": [
        "dfMain[(dfMain['Employment.Type'] == \"Salaried\") & (dfMain['branch_id'] == 100)]"
      ]
    },
    {
      "cell_type": "code",
      "execution_count": null,
      "metadata": {
        "id": "fDMvrRizq5r4"
      },
      "outputs": [],
      "source": []
    },
    {
      "cell_type": "markdown",
      "metadata": {
        "id": "BcC5XjJWq5r4"
      },
      "source": [
        "# Lab Activity 5\n",
        "Filter the dfMain based on the follwoing conditions:\n",
        "\n",
        "asset_cost > 8000 and loan_default=1\n",
        "\n",
        "How many records exists with this condition?"
      ]
    },
    {
      "cell_type": "code",
      "execution_count": 24,
      "metadata": {
        "id": "wtBezopRq5r4"
      },
      "outputs": [],
      "source": [
        "records = dfMain[(dfMain[\"asset_cost\"] > 8000) & (dfMain['loan_default'] == 1)]"
      ]
    },
    {
      "cell_type": "code",
      "execution_count": 26,
      "metadata": {
        "colab": {
          "base_uri": "https://localhost:8080/"
        },
        "id": "QjyXX2-0q5r4",
        "outputId": "53570ac3-2719-4cee-97fe-a111049ae1fa"
      },
      "outputs": [
        {
          "output_type": "stream",
          "name": "stdout",
          "text": [
            "50611\n"
          ]
        }
      ],
      "source": [
        "print(len(records))"
      ]
    }
  ],
  "metadata": {
    "kernelspec": {
      "display_name": "Python 3 (ipykernel)",
      "language": "python",
      "name": "python3"
    },
    "language_info": {
      "codemirror_mode": {
        "name": "ipython",
        "version": 3
      },
      "file_extension": ".py",
      "mimetype": "text/x-python",
      "name": "python",
      "nbconvert_exporter": "python",
      "pygments_lexer": "ipython3",
      "version": "3.9.13"
    },
    "colab": {
      "provenance": []
    }
  },
  "nbformat": 4,
  "nbformat_minor": 0
}